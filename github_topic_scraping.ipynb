{
 "cells": [
  {
   "cell_type": "markdown",
   "metadata": {},
   "source": [
    "## GITHUB Topic and Repository Scraping Project"
   ]
  },
  {
   "cell_type": "code",
   "execution_count": 202,
   "metadata": {},
   "outputs": [],
   "source": [
    "import requests\n",
    "from bs4 import BeautifulSoup\n",
    "import pandas as pd\n",
    "import os"
   ]
  },
  {
   "cell_type": "code",
   "execution_count": 2,
   "metadata": {},
   "outputs": [],
   "source": [
    "# Get URL for scraping main topics\n",
    "response= requests.get('https://github.com/topics')"
   ]
  },
  {
   "cell_type": "code",
   "execution_count": 3,
   "metadata": {},
   "outputs": [
    {
     "data": {
      "text/plain": [
       "200"
      ]
     },
     "execution_count": 3,
     "metadata": {},
     "output_type": "execute_result"
    }
   ],
   "source": [
    "response.status_code"
   ]
  },
  {
   "cell_type": "code",
   "execution_count": 4,
   "metadata": {},
   "outputs": [
    {
     "data": {
      "text/plain": [
       "152059"
      ]
     },
     "execution_count": 4,
     "metadata": {},
     "output_type": "execute_result"
    }
   ],
   "source": [
    "len(response.text)"
   ]
  },
  {
   "cell_type": "code",
   "execution_count": 8,
   "metadata": {},
   "outputs": [],
   "source": [
    "page_content=response.text"
   ]
  },
  {
   "cell_type": "code",
   "execution_count": 217,
   "metadata": {},
   "outputs": [],
   "source": [
    "# Get target page content on local machine\n",
    "with open('webpage.html', 'w', encoding=\"utf-8\") as f:\n",
    "    f.write(page_content)"
   ]
  },
  {
   "cell_type": "code",
   "execution_count": 14,
   "metadata": {},
   "outputs": [],
   "source": [
    "# Create BeautifulSoup Object for parsing \n",
    "soup= BeautifulSoup(page_content, 'html.parser')"
   ]
  },
  {
   "cell_type": "code",
   "execution_count": 15,
   "metadata": {},
   "outputs": [
    {
     "data": {
      "text/plain": [
       "bs4.BeautifulSoup"
      ]
     },
     "execution_count": 15,
     "metadata": {},
     "output_type": "execute_result"
    }
   ],
   "source": [
    "type(soup)"
   ]
  },
  {
   "cell_type": "markdown",
   "metadata": {},
   "source": [
    "### Scraping Main topic .their Description & Topic URL in start"
   ]
  },
  {
   "cell_type": "code",
   "execution_count": 218,
   "metadata": {},
   "outputs": [],
   "source": [
    "topic_title_tags= soup.find_all('p', {'class': 'f3 lh-condensed mb-0 mt-1 Link--primary'})"
   ]
  },
  {
   "cell_type": "code",
   "execution_count": 31,
   "metadata": {},
   "outputs": [
    {
     "data": {
      "text/plain": [
       "[<p class=\"f3 lh-condensed mb-0 mt-1 Link--primary\">3D</p>,\n",
       " <p class=\"f3 lh-condensed mb-0 mt-1 Link--primary\">Ajax</p>,\n",
       " <p class=\"f3 lh-condensed mb-0 mt-1 Link--primary\">Algorithm</p>,\n",
       " <p class=\"f3 lh-condensed mb-0 mt-1 Link--primary\">Amp</p>,\n",
       " <p class=\"f3 lh-condensed mb-0 mt-1 Link--primary\">Android</p>]"
      ]
     },
     "execution_count": 31,
     "metadata": {},
     "output_type": "execute_result"
    }
   ],
   "source": [
    "topic_title_tags[:5]"
   ]
  },
  {
   "cell_type": "code",
   "execution_count": 26,
   "metadata": {},
   "outputs": [],
   "source": [
    "topic_title_desc= soup.find_all('p', {'class', 'f5 color-fg-muted mb-0 mt-1'})"
   ]
  },
  {
   "cell_type": "code",
   "execution_count": 32,
   "metadata": {},
   "outputs": [
    {
     "data": {
      "text/plain": [
       "[<p class=\"f5 color-fg-muted mb-0 mt-1\">\n",
       "           3D modeling is the process of virtually developing the surface and structure of a 3D object.\n",
       "         </p>,\n",
       " <p class=\"f5 color-fg-muted mb-0 mt-1\">\n",
       "           Ajax is a technique for creating interactive web applications.\n",
       "         </p>,\n",
       " <p class=\"f5 color-fg-muted mb-0 mt-1\">\n",
       "           Algorithms are self-contained sequences that carry out a variety of tasks.\n",
       "         </p>,\n",
       " <p class=\"f5 color-fg-muted mb-0 mt-1\">\n",
       "           Amp is a non-blocking concurrency library for PHP.\n",
       "         </p>,\n",
       " <p class=\"f5 color-fg-muted mb-0 mt-1\">\n",
       "           Android is an operating system built by Google designed for mobile devices.\n",
       "         </p>]"
      ]
     },
     "execution_count": 32,
     "metadata": {},
     "output_type": "execute_result"
    }
   ],
   "source": [
    "topic_title_desc[:5]"
   ]
  },
  {
   "cell_type": "code",
   "execution_count": 39,
   "metadata": {},
   "outputs": [],
   "source": [
    "topics_url= soup.find_all('a', {'class': 'no-underline flex-1 d-flex flex-column'})"
   ]
  },
  {
   "cell_type": "code",
   "execution_count": 44,
   "metadata": {},
   "outputs": [],
   "source": [
    "topic0_url=\"https://github.com\" + topics_url[0]['href']"
   ]
  },
  {
   "cell_type": "code",
   "execution_count": 53,
   "metadata": {},
   "outputs": [
    {
     "name": "stdout",
     "output_type": "stream",
     "text": [
      "['3D', 'Ajax', 'Algorithm', 'Amp', 'Android', 'Angular', 'Ansible', 'API', 'Arduino', 'ASP.NET', 'Atom', 'Awesome Lists', 'Amazon Web Services', 'Azure', 'Babel', 'Bash', 'Bitcoin', 'Bootstrap', 'Bot', 'C', 'Chrome', 'Chrome extension', 'Command line interface', 'Clojure', 'Code quality', 'Code review', 'Compiler', 'Continuous integration', 'COVID-19', 'C++']\n"
     ]
    }
   ],
   "source": [
    "topic_title=[]\n",
    "\n",
    "for title in topic_title_tags:\n",
    "    topic_title.append(title.text)\n",
    "print(topic_title)"
   ]
  },
  {
   "cell_type": "code",
   "execution_count": 55,
   "metadata": {},
   "outputs": [
    {
     "name": "stdout",
     "output_type": "stream",
     "text": [
      "['3D modeling is the process of virtually developing the surface and structure of a 3D object.', 'Ajax is a technique for creating interactive web applications.', 'Algorithms are self-contained sequences that carry out a variety of tasks.', 'Amp is a non-blocking concurrency library for PHP.', 'Android is an operating system built by Google designed for mobile devices.']\n"
     ]
    }
   ],
   "source": [
    "topic_desc=[]\n",
    "\n",
    "for title in topic_title_desc:\n",
    "    topic_desc.append(title.text.strip())\n",
    "print(topic_desc[:5])"
   ]
  },
  {
   "cell_type": "code",
   "execution_count": 58,
   "metadata": {},
   "outputs": [
    {
     "name": "stdout",
     "output_type": "stream",
     "text": [
      "['https://github.com/topics/3d', 'https://github.com/topics/ajax', 'https://github.com/topics/algorithm', 'https://github.com/topics/amphp', 'https://github.com/topics/android']\n"
     ]
    }
   ],
   "source": [
    "topic_url=[]\n",
    "\n",
    "for url in topics_url:\n",
    "    topic_url.append(\"https://github.com\" + url['href'])\n",
    "print(topic_url[:5])"
   ]
  },
  {
   "cell_type": "markdown",
   "metadata": {},
   "source": [
    "### Create a Dictionary for saving scraped data from Main Topics"
   ]
  },
  {
   "cell_type": "code",
   "execution_count": 63,
   "metadata": {},
   "outputs": [],
   "source": [
    "topic_dict={'topic': topic_title, \n",
    "'topic_desc': topic_desc, \n",
    "'topic_url': topic_url}\n",
    "\n",
    "topic_df= pd.DataFrame(topic_dict)"
   ]
  },
  {
   "cell_type": "code",
   "execution_count": 65,
   "metadata": {},
   "outputs": [
    {
     "data": {
      "text/html": [
       "<div>\n",
       "<style scoped>\n",
       "    .dataframe tbody tr th:only-of-type {\n",
       "        vertical-align: middle;\n",
       "    }\n",
       "\n",
       "    .dataframe tbody tr th {\n",
       "        vertical-align: top;\n",
       "    }\n",
       "\n",
       "    .dataframe thead th {\n",
       "        text-align: right;\n",
       "    }\n",
       "</style>\n",
       "<table border=\"1\" class=\"dataframe\">\n",
       "  <thead>\n",
       "    <tr style=\"text-align: right;\">\n",
       "      <th></th>\n",
       "      <th>topic</th>\n",
       "      <th>topic_desc</th>\n",
       "      <th>topic_url</th>\n",
       "    </tr>\n",
       "  </thead>\n",
       "  <tbody>\n",
       "    <tr>\n",
       "      <th>0</th>\n",
       "      <td>3D</td>\n",
       "      <td>3D modeling is the process of virtually develo...</td>\n",
       "      <td>https://github.com/topics/3d</td>\n",
       "    </tr>\n",
       "    <tr>\n",
       "      <th>1</th>\n",
       "      <td>Ajax</td>\n",
       "      <td>Ajax is a technique for creating interactive w...</td>\n",
       "      <td>https://github.com/topics/ajax</td>\n",
       "    </tr>\n",
       "    <tr>\n",
       "      <th>2</th>\n",
       "      <td>Algorithm</td>\n",
       "      <td>Algorithms are self-contained sequences that c...</td>\n",
       "      <td>https://github.com/topics/algorithm</td>\n",
       "    </tr>\n",
       "    <tr>\n",
       "      <th>3</th>\n",
       "      <td>Amp</td>\n",
       "      <td>Amp is a non-blocking concurrency library for ...</td>\n",
       "      <td>https://github.com/topics/amphp</td>\n",
       "    </tr>\n",
       "    <tr>\n",
       "      <th>4</th>\n",
       "      <td>Android</td>\n",
       "      <td>Android is an operating system built by Google...</td>\n",
       "      <td>https://github.com/topics/android</td>\n",
       "    </tr>\n",
       "  </tbody>\n",
       "</table>\n",
       "</div>"
      ],
      "text/plain": [
       "       topic                                         topic_desc  \\\n",
       "0         3D  3D modeling is the process of virtually develo...   \n",
       "1       Ajax  Ajax is a technique for creating interactive w...   \n",
       "2  Algorithm  Algorithms are self-contained sequences that c...   \n",
       "3        Amp  Amp is a non-blocking concurrency library for ...   \n",
       "4    Android  Android is an operating system built by Google...   \n",
       "\n",
       "                             topic_url  \n",
       "0         https://github.com/topics/3d  \n",
       "1       https://github.com/topics/ajax  \n",
       "2  https://github.com/topics/algorithm  \n",
       "3      https://github.com/topics/amphp  \n",
       "4    https://github.com/topics/android  "
      ]
     },
     "execution_count": 65,
     "metadata": {},
     "output_type": "execute_result"
    }
   ],
   "source": [
    "topic_df.head()"
   ]
  },
  {
   "cell_type": "code",
   "execution_count": 67,
   "metadata": {},
   "outputs": [],
   "source": [
    "# Write main_topic_list file in CSV\n",
    "topic_df.to_csv('main_topic_list.csv', index=None)"
   ]
  },
  {
   "cell_type": "markdown",
   "metadata": {},
   "source": [
    "### Now Scrap Username, Repository Name , Repository URL and Stars from each Topic Page"
   ]
  },
  {
   "cell_type": "code",
   "execution_count": 72,
   "metadata": {},
   "outputs": [],
   "source": [
    "topic_page_url=topic_url[0]"
   ]
  },
  {
   "cell_type": "code",
   "execution_count": 73,
   "metadata": {},
   "outputs": [
    {
     "data": {
      "text/plain": [
       "'https://github.com/topics/3d'"
      ]
     },
     "execution_count": 73,
     "metadata": {},
     "output_type": "execute_result"
    }
   ],
   "source": [
    "topic_page_url"
   ]
  },
  {
   "cell_type": "code",
   "execution_count": 74,
   "metadata": {},
   "outputs": [],
   "source": [
    "response= requests.get(topic_page_url)"
   ]
  },
  {
   "cell_type": "code",
   "execution_count": 79,
   "metadata": {},
   "outputs": [
    {
     "data": {
      "text/plain": [
       "200"
      ]
     },
     "execution_count": 79,
     "metadata": {},
     "output_type": "execute_result"
    }
   ],
   "source": [
    "response.status_code"
   ]
  },
  {
   "cell_type": "code",
   "execution_count": 78,
   "metadata": {},
   "outputs": [],
   "source": [
    "soup= BeautifulSoup(response.text, 'html.parser')"
   ]
  },
  {
   "cell_type": "code",
   "execution_count": 84,
   "metadata": {},
   "outputs": [],
   "source": [
    "user_name= soup.find_all('h3', {'class': 'f3 color-fg-muted text-normal lh-condensed'})"
   ]
  },
  {
   "cell_type": "code",
   "execution_count": 93,
   "metadata": {},
   "outputs": [],
   "source": [
    "a_tags=user_name[0].find_all('a')"
   ]
  },
  {
   "cell_type": "code",
   "execution_count": 97,
   "metadata": {},
   "outputs": [
    {
     "data": {
      "text/plain": [
       "'mrdoob'"
      ]
     },
     "execution_count": 97,
     "metadata": {},
     "output_type": "execute_result"
    }
   ],
   "source": [
    "a_tags[0].text.strip()"
   ]
  },
  {
   "cell_type": "code",
   "execution_count": 100,
   "metadata": {},
   "outputs": [
    {
     "data": {
      "text/plain": [
       "'three.js'"
      ]
     },
     "execution_count": 100,
     "metadata": {},
     "output_type": "execute_result"
    }
   ],
   "source": [
    "a_tags[1].text.strip()"
   ]
  },
  {
   "cell_type": "code",
   "execution_count": 102,
   "metadata": {},
   "outputs": [
    {
     "name": "stdout",
     "output_type": "stream",
     "text": [
      "https://github.com/mrdoob/three.js\n"
     ]
    }
   ],
   "source": [
    "base_url=\"https://github.com\"\n",
    "repo_url= base_url + a_tags[1]['href']\n",
    "print (repo_url)"
   ]
  },
  {
   "cell_type": "code",
   "execution_count": 111,
   "metadata": {},
   "outputs": [],
   "source": [
    "stars=soup.find_all('span', {'class': 'Counter js-social-count'})"
   ]
  },
  {
   "cell_type": "code",
   "execution_count": 115,
   "metadata": {},
   "outputs": [
    {
     "data": {
      "text/plain": [
       "'85.6k'"
      ]
     },
     "execution_count": 115,
     "metadata": {},
     "output_type": "execute_result"
    }
   ],
   "source": [
    "stars[0].text"
   ]
  },
  {
   "cell_type": "code",
   "execution_count": 120,
   "metadata": {},
   "outputs": [],
   "source": [
    "def parse_stars_count(stars_str):\n",
    "    if (stars_str[-1] == 'k'):\n",
    "        return int (float(k[:-1]) * 1000)\n",
    "    return int(stars_str)"
   ]
  },
  {
   "cell_type": "code",
   "execution_count": 122,
   "metadata": {},
   "outputs": [
    {
     "data": {
      "text/plain": [
       "85600"
      ]
     },
     "execution_count": 122,
     "metadata": {},
     "output_type": "execute_result"
    }
   ],
   "source": [
    "parse_stars_count(stars[0].text)\n"
   ]
  },
  {
   "cell_type": "markdown",
   "metadata": {},
   "source": [
    "### Encapsule all working for scraping Username, Repo Name , Repo URL in function"
   ]
  },
  {
   "cell_type": "code",
   "execution_count": 178,
   "metadata": {},
   "outputs": [],
   "source": [
    "def get_topic_page (page_url):\n",
    "    response= requests.get(page_url)\n",
    "    if response.status_code != 200:\n",
    "        raise Exception('Failed to load Page  '.format(page_url))\n",
    "    \n",
    "    soup= BeautifulSoup(response.text, 'html.parser')\n",
    "\n",
    "    return soup\n",
    "\n",
    "def get_repo_info(user_tag, stars_tag):\n",
    "    a_tags= user_tag.find_all('a')\n",
    "    user_name=a_tags[0].text.strip()\n",
    "    repo_name=a_tags[1].text.strip()\n",
    "    repo_url1=base_url + a_tags[1]['href']\n",
    "    stars_tag= parse_stars_count(stars_tag.text)\n",
    "    return  user_name, repo_name, repo_url1, stars_tag\n",
    "\n",
    "def get_topic_repos (soup):\n",
    "    user_name= soup.find_all('h3', {'class': 'f3 color-fg-muted text-normal lh-condensed'})\n",
    "    stars=soup.find_all('span', {'class': 'Counter js-social-count'})\n",
    "    \n",
    "    topic_repo_dict={\n",
    "    \"user_name\": [],\n",
    "    \"Repo_name\": [],\n",
    "    \"Repo_URL\": [],\n",
    "    \"Repo_stars\": []\n",
    "}\n",
    "\n",
    "    for i in range (len(user_name)):\n",
    "        repo_info= get_repo_info(user_name[i], stars[i])\n",
    "        topic_repo_dict['user_name'].append(repo_info[0])\n",
    "        topic_repo_dict['Repo_name'].append(repo_info[1])\n",
    "        topic_repo_dict['Repo_URL'].append(repo_info[2])\n",
    "        topic_repo_dict['Repo_stars'].append(repo_info[3])\n",
    "        \n",
    "    return pd.DataFrame (topic_repo_dict)"
   ]
  },
  {
   "cell_type": "markdown",
   "metadata": {},
   "source": [
    "### Testing the functions"
   ]
  },
  {
   "cell_type": "code",
   "execution_count": 185,
   "metadata": {},
   "outputs": [
    {
     "data": {
      "text/plain": [
       "'https://github.com/topics/ansible'"
      ]
     },
     "execution_count": 185,
     "metadata": {},
     "output_type": "execute_result"
    }
   ],
   "source": [
    "topic_url[6]"
   ]
  },
  {
   "cell_type": "code",
   "execution_count": 186,
   "metadata": {},
   "outputs": [
    {
     "data": {
      "text/html": [
       "<div>\n",
       "<style scoped>\n",
       "    .dataframe tbody tr th:only-of-type {\n",
       "        vertical-align: middle;\n",
       "    }\n",
       "\n",
       "    .dataframe tbody tr th {\n",
       "        vertical-align: top;\n",
       "    }\n",
       "\n",
       "    .dataframe thead th {\n",
       "        text-align: right;\n",
       "    }\n",
       "</style>\n",
       "<table border=\"1\" class=\"dataframe\">\n",
       "  <thead>\n",
       "    <tr style=\"text-align: right;\">\n",
       "      <th></th>\n",
       "      <th>user_name</th>\n",
       "      <th>Repo_name</th>\n",
       "      <th>Repo_URL</th>\n",
       "      <th>Repo_stars</th>\n",
       "    </tr>\n",
       "  </thead>\n",
       "  <tbody>\n",
       "    <tr>\n",
       "      <th>0</th>\n",
       "      <td>ansible</td>\n",
       "      <td>ansible</td>\n",
       "      <td>https://github.com/ansible/ansible</td>\n",
       "      <td>85600</td>\n",
       "    </tr>\n",
       "    <tr>\n",
       "      <th>1</th>\n",
       "      <td>bregman-arie</td>\n",
       "      <td>devops-exercises</td>\n",
       "      <td>https://github.com/bregman-arie/devops-exercises</td>\n",
       "      <td>85600</td>\n",
       "    </tr>\n",
       "    <tr>\n",
       "      <th>2</th>\n",
       "      <td>trailofbits</td>\n",
       "      <td>algo</td>\n",
       "      <td>https://github.com/trailofbits/algo</td>\n",
       "      <td>85600</td>\n",
       "    </tr>\n",
       "    <tr>\n",
       "      <th>3</th>\n",
       "      <td>StreisandEffect</td>\n",
       "      <td>streisand</td>\n",
       "      <td>https://github.com/StreisandEffect/streisand</td>\n",
       "      <td>85600</td>\n",
       "    </tr>\n",
       "    <tr>\n",
       "      <th>4</th>\n",
       "      <td>MichaelCade</td>\n",
       "      <td>90DaysOfDevOps</td>\n",
       "      <td>https://github.com/MichaelCade/90DaysOfDevOps</td>\n",
       "      <td>85600</td>\n",
       "    </tr>\n",
       "    <tr>\n",
       "      <th>5</th>\n",
       "      <td>kubernetes-sigs</td>\n",
       "      <td>kubespray</td>\n",
       "      <td>https://github.com/kubernetes-sigs/kubespray</td>\n",
       "      <td>85600</td>\n",
       "    </tr>\n",
       "    <tr>\n",
       "      <th>6</th>\n",
       "      <td>ansible</td>\n",
       "      <td>awx</td>\n",
       "      <td>https://github.com/ansible/awx</td>\n",
       "      <td>85600</td>\n",
       "    </tr>\n",
       "    <tr>\n",
       "      <th>7</th>\n",
       "      <td>easzlab</td>\n",
       "      <td>kubeasz</td>\n",
       "      <td>https://github.com/easzlab/kubeasz</td>\n",
       "      <td>85600</td>\n",
       "    </tr>\n",
       "    <tr>\n",
       "      <th>8</th>\n",
       "      <td>geerlingguy</td>\n",
       "      <td>ansible-for-devops</td>\n",
       "      <td>https://github.com/geerlingguy/ansible-for-devops</td>\n",
       "      <td>85600</td>\n",
       "    </tr>\n",
       "    <tr>\n",
       "      <th>9</th>\n",
       "      <td>khuedoan</td>\n",
       "      <td>homelab</td>\n",
       "      <td>https://github.com/khuedoan/homelab</td>\n",
       "      <td>85600</td>\n",
       "    </tr>\n",
       "    <tr>\n",
       "      <th>10</th>\n",
       "      <td>Tikam02</td>\n",
       "      <td>DevOps-Guide</td>\n",
       "      <td>https://github.com/Tikam02/DevOps-Guide</td>\n",
       "      <td>85600</td>\n",
       "    </tr>\n",
       "    <tr>\n",
       "      <th>11</th>\n",
       "      <td>ansible-semaphore</td>\n",
       "      <td>semaphore</td>\n",
       "      <td>https://github.com/ansible-semaphore/semaphore</td>\n",
       "      <td>85600</td>\n",
       "    </tr>\n",
       "    <tr>\n",
       "      <th>12</th>\n",
       "      <td>geerlingguy</td>\n",
       "      <td>mac-dev-playbook</td>\n",
       "      <td>https://github.com/geerlingguy/mac-dev-playbook</td>\n",
       "      <td>85600</td>\n",
       "    </tr>\n",
       "    <tr>\n",
       "      <th>13</th>\n",
       "      <td>rundeck</td>\n",
       "      <td>rundeck</td>\n",
       "      <td>https://github.com/rundeck/rundeck</td>\n",
       "      <td>85600</td>\n",
       "    </tr>\n",
       "    <tr>\n",
       "      <th>14</th>\n",
       "      <td>KubeOperator</td>\n",
       "      <td>KubeOperator</td>\n",
       "      <td>https://github.com/KubeOperator/KubeOperator</td>\n",
       "      <td>85600</td>\n",
       "    </tr>\n",
       "    <tr>\n",
       "      <th>15</th>\n",
       "      <td>clong</td>\n",
       "      <td>DetectionLab</td>\n",
       "      <td>https://github.com/clong/DetectionLab</td>\n",
       "      <td>85600</td>\n",
       "    </tr>\n",
       "    <tr>\n",
       "      <th>16</th>\n",
       "      <td>netbootxyz</td>\n",
       "      <td>netboot.xyz</td>\n",
       "      <td>https://github.com/netbootxyz/netboot.xyz</td>\n",
       "      <td>85600</td>\n",
       "    </tr>\n",
       "    <tr>\n",
       "      <th>17</th>\n",
       "      <td>ansible-community</td>\n",
       "      <td>molecule</td>\n",
       "      <td>https://github.com/ansible-community/molecule</td>\n",
       "      <td>85600</td>\n",
       "    </tr>\n",
       "    <tr>\n",
       "      <th>18</th>\n",
       "      <td>litmuschaos</td>\n",
       "      <td>litmus</td>\n",
       "      <td>https://github.com/litmuschaos/litmus</td>\n",
       "      <td>85600</td>\n",
       "    </tr>\n",
       "    <tr>\n",
       "      <th>19</th>\n",
       "      <td>opendevops-cn</td>\n",
       "      <td>opendevops</td>\n",
       "      <td>https://github.com/opendevops-cn/opendevops</td>\n",
       "      <td>85600</td>\n",
       "    </tr>\n",
       "  </tbody>\n",
       "</table>\n",
       "</div>"
      ],
      "text/plain": [
       "            user_name           Repo_name  \\\n",
       "0             ansible             ansible   \n",
       "1        bregman-arie    devops-exercises   \n",
       "2         trailofbits                algo   \n",
       "3     StreisandEffect           streisand   \n",
       "4         MichaelCade      90DaysOfDevOps   \n",
       "5     kubernetes-sigs           kubespray   \n",
       "6             ansible                 awx   \n",
       "7             easzlab             kubeasz   \n",
       "8         geerlingguy  ansible-for-devops   \n",
       "9            khuedoan             homelab   \n",
       "10            Tikam02        DevOps-Guide   \n",
       "11  ansible-semaphore           semaphore   \n",
       "12        geerlingguy    mac-dev-playbook   \n",
       "13            rundeck             rundeck   \n",
       "14       KubeOperator        KubeOperator   \n",
       "15              clong        DetectionLab   \n",
       "16         netbootxyz         netboot.xyz   \n",
       "17  ansible-community            molecule   \n",
       "18        litmuschaos              litmus   \n",
       "19      opendevops-cn          opendevops   \n",
       "\n",
       "                                             Repo_URL  Repo_stars  \n",
       "0                  https://github.com/ansible/ansible       85600  \n",
       "1    https://github.com/bregman-arie/devops-exercises       85600  \n",
       "2                 https://github.com/trailofbits/algo       85600  \n",
       "3        https://github.com/StreisandEffect/streisand       85600  \n",
       "4       https://github.com/MichaelCade/90DaysOfDevOps       85600  \n",
       "5        https://github.com/kubernetes-sigs/kubespray       85600  \n",
       "6                      https://github.com/ansible/awx       85600  \n",
       "7                  https://github.com/easzlab/kubeasz       85600  \n",
       "8   https://github.com/geerlingguy/ansible-for-devops       85600  \n",
       "9                 https://github.com/khuedoan/homelab       85600  \n",
       "10            https://github.com/Tikam02/DevOps-Guide       85600  \n",
       "11     https://github.com/ansible-semaphore/semaphore       85600  \n",
       "12    https://github.com/geerlingguy/mac-dev-playbook       85600  \n",
       "13                 https://github.com/rundeck/rundeck       85600  \n",
       "14       https://github.com/KubeOperator/KubeOperator       85600  \n",
       "15              https://github.com/clong/DetectionLab       85600  \n",
       "16          https://github.com/netbootxyz/netboot.xyz       85600  \n",
       "17      https://github.com/ansible-community/molecule       85600  \n",
       "18              https://github.com/litmuschaos/litmus       85600  \n",
       "19        https://github.com/opendevops-cn/opendevops       85600  "
      ]
     },
     "execution_count": 186,
     "metadata": {},
     "output_type": "execute_result"
    }
   ],
   "source": [
    "get_topic_repos(get_topic_page(topic_url[6]))"
   ]
  },
  {
   "cell_type": "markdown",
   "metadata": {},
   "source": [
    "### Save all Topic Scalped Repository data in Data folder in CSV format"
   ]
  },
  {
   "cell_type": "code",
   "execution_count": 214,
   "metadata": {},
   "outputs": [],
   "source": [
    "\n",
    "os.makedirs('data', exist_ok=True)\n",
    "for i in range(len(topic_url)):\n",
    "    fname= topic_title[i] + '.csv'\n",
    "    if os.path.exists(fname):\n",
    "        print(\"The file already Exist\".format(fname))\n",
    "    topics_repos=get_topic_repos(get_topic_page(topic_url[i]))\n",
    "    topics_repos.to_csv('data/' + fname, index=None)\n",
    "\n"
   ]
  },
  {
   "cell_type": "code",
   "execution_count": null,
   "metadata": {},
   "outputs": [],
   "source": []
  }
 ],
 "metadata": {
  "kernelspec": {
   "display_name": "Python 3.9.12 ('base')",
   "language": "python",
   "name": "python3"
  },
  "language_info": {
   "codemirror_mode": {
    "name": "ipython",
    "version": 3
   },
   "file_extension": ".py",
   "mimetype": "text/x-python",
   "name": "python",
   "nbconvert_exporter": "python",
   "pygments_lexer": "ipython3",
   "version": "3.9.12"
  },
  "orig_nbformat": 4,
  "vscode": {
   "interpreter": {
    "hash": "dc07d24e2f18896857f0b2a651fe84ba40ce7b297e58d8804a308c8039f752a6"
   }
  }
 },
 "nbformat": 4,
 "nbformat_minor": 2
}
